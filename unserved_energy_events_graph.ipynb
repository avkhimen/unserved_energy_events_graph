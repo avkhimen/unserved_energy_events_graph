{
 "cells": [
  {
   "cell_type": "code",
   "execution_count": 22,
   "id": "78b83b71",
   "metadata": {},
   "outputs": [],
   "source": [
    "from gurobipy import Model, GRB\n",
    "import time\n",
    "import pandas as pd\n",
    "import numpy as np\n",
    "from pylinerating.ieee738 import thermal_rating\n",
    "from pylinerating import conductor\n",
    "import matplotlib.pyplot as plt\n",
    "from tqdm import tqdm\n",
    "plt.rcParams[\"figure.figsize\"] = (20,8)\n",
    "import pickle\n",
    "import json\n",
    "from IPython.display import Image\n",
    "from tqdm import tqdm"
   ]
  },
  {
   "cell_type": "code",
   "execution_count": 23,
   "id": "f52b60d4",
   "metadata": {},
   "outputs": [],
   "source": [
    "# unserved_energy = {}\n",
    "# for capacity in BESS_capacities: #capacity in GWmin\n",
    "#     unserved_energy[capacity] = [] #unserved energy in GWmin\n",
    "        \n",
    "# duration_between_events_with_unserved_energy = {}\n",
    "# for SOC_opt in BESS_capacities: #capacity in GWmin\n",
    "#     duration_between_events_with_unserved_energy[SOC_opt] = {}\n",
    "#     for PR_opt in PR_opts:\n",
    "#         duration_between_events_with_unserved_energy[SOC_opt][PR_opt] = [] #duration between events in min"
   ]
  },
  {
   "cell_type": "code",
   "execution_count": 24,
   "id": "05b35370",
   "metadata": {},
   "outputs": [],
   "source": [
    "with open('unserved_energy_events.pkl', 'rb') as outfile:\n",
    "    unserved_energy = pickle.load(outfile)"
   ]
  },
  {
   "cell_type": "code",
   "execution_count": 25,
   "id": "82ab06e2",
   "metadata": {},
   "outputs": [],
   "source": [
    "with open('duration_between_events_with_unserved_energy.pkl', 'rb') as outfile:\n",
    "    duration_between_events_with_unserved_energy = pickle.load(outfile)"
   ]
  },
  {
   "cell_type": "code",
   "execution_count": 26,
   "id": "72cf53cd",
   "metadata": {},
   "outputs": [],
   "source": [
    "np.array(list(unserved_energy.keys())) * 1000/60"
   ]
  },
  {
   "cell_type": "code",
   "execution_count": 27,
   "id": "e1ea7df6",
   "metadata": {},
   "outputs": [],
   "source": [
    "num_years_to_plot = 3\n",
    "for capacity in list(unserved_energy.keys())[0:4]:\n",
    "    #print(str(capacity * 1000/60) + ' MWh')\n",
    "    x = []\n",
    "    y = []\n",
    "    year_end_count = 0\n",
    "    for item in unserved_energy[capacity]:\n",
    "        if item != 'year_end' and year_end_count < num_years_to_plot:\n",
    "            #print(item)\n",
    "            x.append(list(item.keys())[0])\n",
    "            y.append(list(item.values())[0] * 1000/60)\n",
    "        else:\n",
    "            year_end_count += 1\n",
    "        \n",
    "    plt.plot(x, y, 'o', markersize=10, label = str(capacity * 1000/60) + ' MWh BESS')\n",
    "    plt.xlabel('Duration of Unserved Energy Event [min]', fontsize = 20)\n",
    "    plt.ylabel('Unserved Energy [MWh]', fontsize = 20)\n",
    "    plt.title('Unserved Energy [MWh] vs Duration of Unserved Energy for Installed BESS Capacities [MWh]', fontsize = 20)\n",
    "    plt.legend()"
   ]
  },
  {
   "cell_type": "code",
   "execution_count": 28,
   "id": "c20ac1b3",
   "metadata": {},
   "outputs": [],
   "source": [
    "# Total unserved energy per capacity\n",
    "num_years_to_plot = 15\n",
    "num_caps_to_plot = 100\n",
    "caps = []\n",
    "ues = []\n",
    "for capacity in list(unserved_energy.keys())[0:num_caps_to_plot]:\n",
    "    caps.append(capacity * 1000/60)\n",
    "    #print(str(capacity * 1000/60) + ' MWh')\n",
    "    ue = []\n",
    "    year_end_count = 0\n",
    "    for item in unserved_energy[capacity]:\n",
    "        if item != 'year_end' and year_end_count < num_years_to_plot:\n",
    "            #print(item)\n",
    "            ue.append(list(item.values())[0] * 1000/60)\n",
    "        else:\n",
    "            year_end_count += 1\n",
    "    ues.append(sum(ue))\n",
    "        \n",
    "plt.plot(caps, ues)\n",
    "plt.xlabel('Installed BESS Capacity [MWh]', fontsize = 20)\n",
    "plt.ylabel('Total Unserved Energy [MWh]', fontsize = 20)\n",
    "plt.title('Total Unserved Energy [MWh] vs Installed BESS Capacity [MWh]', fontsize = 20)\n",
    "plt.legend()"
   ]
  },
  {
   "cell_type": "code",
   "execution_count": 29,
   "id": "2b3cfcbb",
   "metadata": {},
   "outputs": [],
   "source": [
    "# Total duration of unserved energy per capacity\n",
    "# Total unserved energy per capacity\n",
    "num_years_to_plot = 15\n",
    "num_caps_to_plot = 100\n",
    "caps = []\n",
    "durs = []\n",
    "for capacity in list(unserved_energy.keys())[0:num_caps_to_plot]:\n",
    "    caps.append(capacity * 1000/60)\n",
    "    #print(str(capacity * 1000/60) + ' MWh')\n",
    "    dur = []\n",
    "    year_end_count = 0\n",
    "    for item in unserved_energy[capacity]:\n",
    "        if item != 'year_end' and year_end_count < num_years_to_plot:\n",
    "            #print(item)\n",
    "            dur.append(list(item.keys())[0] * 1000/60)\n",
    "        else:\n",
    "            year_end_count += 1\n",
    "    durs.append(sum(dur))\n",
    "        \n",
    "plt.plot(caps, durs)\n",
    "plt.xlabel('Installed BESS Capacity [MWh]', fontsize = 20)\n",
    "plt.ylabel('Total Duration of Unserved Energy Events [min]', fontsize = 20)\n",
    "plt.title('Total Duration of Unserved Energy Events [min] vs Installed BESS Capacity [MWh]', fontsize = 20)\n",
    "plt.legend()"
   ]
  },
  {
   "cell_type": "code",
   "execution_count": 30,
   "id": "362dc6cf",
   "metadata": {},
   "outputs": [],
   "source": [
    "BESS_capacities_MWh = np.arange(5,25,5) * 60/1000\n",
    "\n",
    "PR_opt = 1\n",
    "\n",
    "for capacity in BESS_capacities_MWh:\n",
    "    y = []\n",
    "    for item in duration_between_events_with_unserved_energy[capacity][PR_opt]:\n",
    "        if item != 'year_end':\n",
    "            y.append(item)\n",
    "    y = np.array(y)\n",
    "    x = np.arange(y.shape[0])\n",
    "    \n",
    "    plt.scatter(x, y, label = str(capacity * 1000/60) + ' MWh BESS')\n",
    "    #plt.xlim([0,10000])\n",
    "    plt.xlabel('Served Energy Events [-]', fontsize = 20)\n",
    "    plt.ylabel('Duration Between Unserved Energy Events [min]', fontsize = 20)\n",
    "    plt.title('Dur. Bwn Unserved En. Events [min] vs Served En. Events [-] with DTLR ' \n",
    "              + 'for Diff. Caps', fontsize = 25)\n",
    "    plt.legend(fontsize = 15)\n",
    "    plt.grid()"
   ]
  },
  {
   "cell_type": "code",
   "execution_count": 31,
   "id": "92104444",
   "metadata": {},
   "outputs": [],
   "source": [
    "BESS_capacities_MWh = np.arange(5,10,5) * 60/1000\n",
    "\n",
    "PR_opt = 1\n",
    "\n",
    "for capacity in BESS_capacities_MWh:\n",
    "    y = []\n",
    "    for item in duration_between_events_with_unserved_energy[capacity][PR_opt]:\n",
    "        if item != 'year_end':\n",
    "            y.append(item)\n",
    "    y = np.array(y)\n",
    "    x = np.arange(y.shape[0])\n",
    "    \n",
    "    plt.scatter(x, y, label = str(capacity * 1000/60) + ' MWh BESS')\n",
    "    plt.xlim([0,100])\n",
    "    plt.xlabel('Unserved Energy Events [-]', fontsize = 20)\n",
    "    plt.ylabel('Duration Between Unserved Energy Events [min]', fontsize = 20)\n",
    "    plt.title('Dur. Bwn Unserved En. Events [min] vs Served En. Events [-] with DTLR ' \n",
    "              + 'for Diff. Caps', fontsize = 25)\n",
    "    plt.legend(fontsize = 15)\n",
    "    plt.grid()"
   ]
  }
 ],
 "metadata": {
  "kernelspec": {
   "display_name": "Python 3 (ipykernel)",
   "language": "python",
   "name": "python3"
  },
  "language_info": {
   "codemirror_mode": {
    "name": "ipython",
    "version": 3
   },
   "file_extension": ".py",
   "mimetype": "text/x-python",
   "name": "python",
   "nbconvert_exporter": "python",
   "pygments_lexer": "ipython3",
   "version": "3.8.12"
  },
  "varInspector": {
   "cols": {
    "lenName": 16,
    "lenType": 16,
    "lenVar": 40
   },
   "kernels_config": {
    "python": {
     "delete_cmd_postfix": "",
     "delete_cmd_prefix": "del ",
     "library": "var_list.py",
     "varRefreshCmd": "print(var_dic_list())"
    },
    "r": {
     "delete_cmd_postfix": ") ",
     "delete_cmd_prefix": "rm(",
     "library": "var_list.r",
     "varRefreshCmd": "cat(var_dic_list()) "
    }
   },
   "types_to_exclude": [
    "module",
    "function",
    "builtin_function_or_method",
    "instance",
    "_Feature"
   ],
   "window_display": false
  }
 },
 "nbformat": 4,
 "nbformat_minor": 5
}
